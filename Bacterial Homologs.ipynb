{
 "cells": [
  {
   "cell_type": "markdown",
   "id": "b8e3822b",
   "metadata": {},
   "source": [
    "**1/24/24**\n",
    "\n",
    "The purpose of this notebook is to take bacterial protein homologs identified by BLASTp searching and see how many of them exist in the protein data, as well as the genomes of vaginal bacteria more generally."
   ]
  },
  {
   "cell_type": "code",
   "execution_count": 1,
   "id": "b052b816",
   "metadata": {},
   "outputs": [],
   "source": [
    "from elliot_utils import *"
   ]
  },
  {
   "cell_type": "code",
   "execution_count": 2,
   "id": "4a259cc5",
   "metadata": {},
   "outputs": [],
   "source": [
    "analysisPath = Path.cwd().joinpath('analysis_files/bacterial_homologs/')\n",
    "bacterialData = analysisPath.joinpath('protein_summary_bacteria_strict.csv')"
   ]
  },
  {
   "cell_type": "code",
   "execution_count": 3,
   "id": "374fc064",
   "metadata": {},
   "outputs": [],
   "source": [
    "# Returns a set of homolog protein ids from a csv file\n",
    "def getHomologsFromCSV(filePath):\n",
    "    toReturn = set()\n",
    "    with filePath.open(mode='r', encoding='utf-8-sig') as infile:\n",
    "        reader = csv.reader(infile)\n",
    "        for row in reader:\n",
    "            toReturn.add(row[0])\n",
    "    return toReturn\n",
    "\n",
    "# Extracts the supplied homologs from the hit bacterial proteins file and outputs them to the csv file specified in outPath\n",
    "def writeHomologsToCSV(hitsFile, homologSet, outPath):\n",
    "    toWrite = []\n",
    "    with hitsFile.open(mode='r') as infile:\n",
    "        reader = csv.reader(infile)\n",
    "        isFirst = True\n",
    "        for row in reader:\n",
    "            if isFirst:\n",
    "                toWrite.append(row)\n",
    "                isFirst = False\n",
    "            elif row[0] in homologSet:\n",
    "                toWrite.append(row)\n",
    "    with outPath.open(mode='w', newline='') as outfile:\n",
    "        writer = csv.writer(outfile)\n",
    "        for row in toWrite:\n",
    "            writer.writerow(row)\n",
    "\n",
    "# Scans a blastp result for bacterial homologs of a query protein with Evalue < 0.0001, then refers to the vaginal bacterial\n",
    "# protein reference database to extract information on those protein hits and write them to the specified csv file\n",
    "def writeGenomeHomologsToCSV(blastpResult, bacterialRef, outpath):\n",
    "    toWrite = [['id', 'protein', 'taxa', 'e-value']]\n",
    "    with blastpResult.open(mode='r') as infile:\n",
    "        reader = csv.reader(infile)\n",
    "        for row in reader:\n",
    "            if float(row[10]) < 0.0001:\n",
    "                hit = bacterialRef.getProt(row[1])\n",
    "                toWrite.append([hit.id, hit.name, hit.getTaxaString(), row[10]])\n",
    "    with outpath.open(mode='w', newline='') as outfile:\n",
    "        writer = csv.writer(outfile)\n",
    "        for row in toWrite:\n",
    "            writer.writerow(row)"
   ]
  },
  {
   "cell_type": "code",
   "execution_count": 11,
   "id": "2b8f6e5c",
   "metadata": {},
   "outputs": [],
   "source": [
    "### Look for homologs of proteins in the metaproteomics data\n",
    "# Phosphoenolpyruvate carboxykinase homologs\n",
    "pckaHomologs = getHomologsFromCSV(analysisPath.joinpath('homologs_pcka.csv'))\n",
    "writeHomologsToCSV(bacterialData, pckaHomologs, analysisPath.joinpath('hits_pcka.csv'))"
   ]
  },
  {
   "cell_type": "code",
   "execution_count": 13,
   "id": "917c4a52",
   "metadata": {},
   "outputs": [],
   "source": [
    "# Malate dehydrogenase homologs\n",
    "mdhHomologs = getHomologsFromCSV(analysisPath.joinpath('homologs_mdh.csv'))\n",
    "writeHomologsToCSV(bacterialData, mdhHomologs, analysisPath.joinpath('hits_mdh.csv'))"
   ]
  },
  {
   "cell_type": "code",
   "execution_count": 14,
   "id": "fe403258",
   "metadata": {},
   "outputs": [],
   "source": [
    "# Fumarate dehydrogenase homologs\n",
    "fumbHomologs = getHomologsFromCSV(analysisPath.joinpath('homologs_fumb.csv'))\n",
    "writeHomologsToCSV(bacterialData, fumbHomologs, analysisPath.joinpath('hits_fumb.csv'))"
   ]
  },
  {
   "cell_type": "code",
   "execution_count": 12,
   "id": "845f4c23",
   "metadata": {},
   "outputs": [],
   "source": [
    "# Pyruvate formate lyase homologs\n",
    "pflHomologs = getHomologsFromCSV(analysisPath.joinpath('homologs_pfl.csv'))\n",
    "writeHomologsToCSV(bacterialData, pflHomologs, analysisPath.joinpath('hits_pfl.csv'))"
   ]
  },
  {
   "cell_type": "code",
   "execution_count": 4,
   "id": "eadc7371",
   "metadata": {},
   "outputs": [],
   "source": [
    "### Look for homologs of proteins the the genomes of vaginal bacteria\n",
    "bacterialRef = ProtRef(analysisPath.joinpath('community5.fasta'))"
   ]
  },
  {
   "cell_type": "code",
   "execution_count": 20,
   "id": "dfbd396a",
   "metadata": {},
   "outputs": [],
   "source": [
    "writeGenomeHomologsToCSV(analysisPath.joinpath('24-1-24_pfl_all_bacteria.csv'), bacterialRef, analysisPath.joinpath('genomes_pfl.csv'))"
   ]
  },
  {
   "cell_type": "code",
   "execution_count": 21,
   "id": "31bdb863",
   "metadata": {},
   "outputs": [],
   "source": [
    "writeGenomeHomologsToCSV(analysisPath.joinpath('24-1-22_FDH_All_Bacteria.csv'), bacterialRef, analysisPath.joinpath('genomes_fdh.csv'))"
   ]
  },
  {
   "cell_type": "code",
   "execution_count": 23,
   "id": "7e432de8",
   "metadata": {},
   "outputs": [],
   "source": [
    "writeGenomeHomologsToCSV(analysisPath.joinpath('24-1-23_NrdD_All_Bacteria.csv'), bacterialRef, analysisPath.joinpath('genomes_NrdD.csv'))"
   ]
  },
  {
   "cell_type": "code",
   "execution_count": 25,
   "id": "b7b2ca1b",
   "metadata": {},
   "outputs": [],
   "source": [
    "writeGenomeHomologsToCSV(analysisPath.joinpath('24-1-24_gdha_all_bacteria.csv'), bacterialRef, analysisPath.joinpath('genomes_gdha.csv'))"
   ]
  },
  {
   "cell_type": "code",
   "execution_count": 26,
   "id": "2a320a8a",
   "metadata": {},
   "outputs": [],
   "source": [
    "writeGenomeHomologsToCSV(analysisPath.joinpath('24-1-24_glua_all_bacteria.csv'), bacterialRef, analysisPath.joinpath('genomes_glua.csv'))"
   ]
  },
  {
   "cell_type": "code",
   "execution_count": 27,
   "id": "9fbfa104",
   "metadata": {},
   "outputs": [],
   "source": [
    "writeGenomeHomologsToCSV(analysisPath.joinpath('24-1-24_glutamine-synthetase_all_bacteria.csv'), bacterialRef, analysisPath.joinpath('genomes_glutamine-synthetase.csv'))"
   ]
  },
  {
   "cell_type": "code",
   "execution_count": 28,
   "id": "ea2b6d5c",
   "metadata": {},
   "outputs": [],
   "source": [
    "writeGenomeHomologsToCSV(analysisPath.joinpath('24-1-24_tmao-reductase_all_bacteria.csv'), bacterialRef, analysisPath.joinpath('genomes_tmao-reductase.csv'))"
   ]
  },
  {
   "cell_type": "code",
   "execution_count": 29,
   "id": "acb1d2c5",
   "metadata": {},
   "outputs": [],
   "source": [
    "writeGenomeHomologsToCSV(analysisPath.joinpath('24-1-24_betaine-reductase_all_bacteria.csv'), bacterialRef, analysisPath.joinpath('genomes_betaine-reductase.csv'))"
   ]
  },
  {
   "cell_type": "code",
   "execution_count": 30,
   "id": "2c1cbc0c",
   "metadata": {},
   "outputs": [],
   "source": [
    "writeGenomeHomologsToCSV(analysisPath.joinpath('24-1-24_cutc_all_bacteria.csv'), bacterialRef, analysisPath.joinpath('genomes_cutc.csv'))"
   ]
  },
  {
   "cell_type": "code",
   "execution_count": 31,
   "id": "62719049",
   "metadata": {},
   "outputs": [],
   "source": [
    "writeGenomeHomologsToCSV(analysisPath.joinpath('24-1-24_carnitine-monooxygenase_all_bacteria.csv'), bacterialRef, analysisPath.joinpath('genomes_carnitine-monooxygenase.csv'))"
   ]
  },
  {
   "cell_type": "code",
   "execution_count": 32,
   "id": "d8426b20",
   "metadata": {},
   "outputs": [],
   "source": [
    "writeGenomeHomologsToCSV(analysisPath.joinpath('24-1-26_arginine-deiminase_all_bacteria.csv'), bacterialRef, analysisPath.joinpath('genomes_arginine-deiminase.csv'))"
   ]
  },
  {
   "cell_type": "code",
   "execution_count": 33,
   "id": "f5027ff2",
   "metadata": {},
   "outputs": [],
   "source": [
    "writeGenomeHomologsToCSV(analysisPath.joinpath('24-1-26_ornithine-carbamoyltransferase_all_bacteria.csv'), bacterialRef, analysisPath.joinpath('genomes_ornithine-carbamoyltransferase.csv'))"
   ]
  },
  {
   "cell_type": "code",
   "execution_count": 34,
   "id": "aed0ffb9",
   "metadata": {},
   "outputs": [],
   "source": [
    "writeGenomeHomologsToCSV(analysisPath.joinpath('24-1-26_ornithine-decarboxylase_all_bacteria.csv'), bacterialRef, analysisPath.joinpath('genomes_ornithine-decarboxylase.csv'))"
   ]
  },
  {
   "cell_type": "code",
   "execution_count": 36,
   "id": "88cc9059",
   "metadata": {},
   "outputs": [],
   "source": [
    "writeGenomeHomologsToCSV(analysisPath.joinpath('24-1-26_betaine_aldehyde_dehydrogenase_all_bacteria.csv'), bacterialRef, analysisPath.joinpath('genomes_betaine-aldehyde-dehydrogenase.csv'))"
   ]
  },
  {
   "cell_type": "code",
   "execution_count": 5,
   "id": "adb1fde9",
   "metadata": {},
   "outputs": [],
   "source": [
    "writeGenomeHomologsToCSV(analysisPath.joinpath('24-2-14_fdni_all_bacteria.csv'), bacterialRef, analysisPath.joinpath('genomes_nitrate-formate-dehydrogenase.csv'))"
   ]
  },
  {
   "cell_type": "code",
   "execution_count": 6,
   "id": "a7eafdb6",
   "metadata": {},
   "outputs": [],
   "source": [
    "writeGenomeHomologsToCSV(analysisPath.joinpath('24-2-14_fdog_all_bacteria.csv'), bacterialRef, analysisPath.joinpath('genomes_alternate-formate-dehydrogenase.csv'))"
   ]
  },
  {
   "cell_type": "code",
   "execution_count": 7,
   "id": "3e1d6a37",
   "metadata": {},
   "outputs": [],
   "source": [
    "writeGenomeHomologsToCSV(analysisPath.joinpath('24-2-14_fdha_all_bacteria.csv'), bacterialRef, analysisPath.joinpath('genomes_alternate-alternate-formate-dehydrogenase.csv'))"
   ]
  }
 ],
 "metadata": {
  "kernelspec": {
   "display_name": "Python 3 (ipykernel)",
   "language": "python",
   "name": "python3"
  },
  "language_info": {
   "codemirror_mode": {
    "name": "ipython",
    "version": 3
   },
   "file_extension": ".py",
   "mimetype": "text/x-python",
   "name": "python",
   "nbconvert_exporter": "python",
   "pygments_lexer": "ipython3",
   "version": "3.10.7"
  }
 },
 "nbformat": 4,
 "nbformat_minor": 5
}
