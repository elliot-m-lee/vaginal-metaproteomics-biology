{
 "cells": [
  {
   "cell_type": "markdown",
   "metadata": {},
   "source": [
    "**1/14/21**\n",
    "\n",
    "The purpose of this notebook is to analyze bacterial proteins identified by searching the Hybrid_Sample-Matched databases. First I'll just note all of the proteins identified across all the samples, then I'll analyze the attached GO numbers to see if any functional annotations are differentially more or less abundant in BV+ samples."
   ]
  },
  {
   "cell_type": "code",
   "execution_count": 1,
   "metadata": {},
   "outputs": [],
   "source": [
    "from elliot_utils import *\n",
    "from scipy import stats"
   ]
  },
  {
   "cell_type": "code",
   "execution_count": 2,
   "metadata": {},
   "outputs": [],
   "source": [
    "analysisPath = Path.cwd().joinpath('analysis_files/bacterial_analysis/')"
   ]
  },
  {
   "cell_type": "code",
   "execution_count": null,
   "metadata": {},
   "outputs": [],
   "source": [
    "results = getOrderedFiles(HYBRID_RESULTS, '.tsv')\n",
    "dbs = getOrderedFiles(HYBRID_DB, '.fasta')\n",
    "refs = [ProtRef(x, disallowRepeats=False) for x in dbs]\n",
    "bPeps = getFilteredPeptides(results, 'bacteria')"
   ]
  },
  {
   "cell_type": "code",
   "execution_count": 4,
   "metadata": {},
   "outputs": [],
   "source": [
    "# Gather all the bacterial proteins, collapsing them by sequence, and count how many spectra they are associated with across all samples.\n",
    "bacterialProteinHits = {} #key=amino acid sequence, value=ProteinHit object\n",
    "proteinTotals = [0 for x in range(len(SAMPLE_NAMES))] #total number of bacterial spectra in each sample"
   ]
  },
  {
   "cell_type": "code",
   "execution_count": 5,
   "metadata": {},
   "outputs": [],
   "source": [
    "for i in range(len(results)):\n",
    "    res = results[i]\n",
    "    ref = refs[i]\n",
    "    bv = BV_STATUS[i]\n",
    "    with res.open(mode='r') as infile:\n",
    "        reader = csv.reader(infile, delimiter='\\t')\n",
    "        for row in reader:\n",
    "            protType = determineIDType(row)\n",
    "            if protType == 'first':\n",
    "                continue\n",
    "            if not isSignificant(row):\n",
    "                break\n",
    "            if row[PEPTIDE] in bPeps and protType == 'bacteria':\n",
    "                proteinTotals[i] += 1\n",
    "                hits = getProteinHitList(row, 'bacteria')\n",
    "                hitSequences = set()\n",
    "                for hit in hits:\n",
    "                    protein = ref.getProt(hit)\n",
    "                    if not protein.sequence in bacterialProteinHits.keys():\n",
    "                        bacterialProteinHits[protein.sequence] = ProteinHit(protein.copy())\n",
    "                    else:\n",
    "                        for t in protein.taxa:\n",
    "                            bacterialProteinHits[protein.sequence].protein.addTaxa(t)\n",
    "                    hitSequences.add(protein.sequence)\n",
    "                for seq in hitSequences:\n",
    "                    bacterialProteinHits[seq].incrementCount(bv)"
   ]
  },
  {
   "cell_type": "code",
   "execution_count": 6,
   "metadata": {},
   "outputs": [],
   "source": [
    "summaryPath = analysisPath.joinpath('protein_summary_bacteria_v2.csv')"
   ]
  },
  {
   "cell_type": "code",
   "execution_count": 7,
   "metadata": {},
   "outputs": [],
   "source": [
    "with summaryPath.open(mode='w', newline='') as outfile:\n",
    "    rows = [['ID', 'Protein', 'Taxa', 'BV- Count', 'BV+ Count', 'Total Count']]\n",
    "    for p in bacterialProteinHits.values():\n",
    "        rows.append([p.id, p.protein.name, p.protein.getTaxaString(), str(p.getCount('-')), str(p.getCount('+')), str(p.getCount())])\n",
    "    writer = csv.writer(outfile)\n",
    "    for row in rows:\n",
    "        writer.writerow(row)"
   ]
  },
  {
   "cell_type": "code",
   "execution_count": 7,
   "metadata": {},
   "outputs": [],
   "source": [
    "# Perform the same analysis as above, but only count each spectrum once\n",
    "strictBacteriaHits = {} #key=protID, value=protein hit object\n",
    "for i in range(len(results)):\n",
    "    res = results[i]\n",
    "    ref = refs[i]\n",
    "    bv = BV_STATUS[i]\n",
    "    with res.open(mode='r') as infile:\n",
    "        reader = csv.reader(infile, delimiter='\\t')\n",
    "        for row in reader:\n",
    "            protType = determineIDType(row)\n",
    "            if protType == 'first':\n",
    "                continue\n",
    "            if not isSignificant(row):\n",
    "                break\n",
    "            if row[PEPTIDE] in bPeps and protType == 'bacteria':\n",
    "                proteinTotals[i] += 1\n",
    "                hits = getProteinHitList(row, 'bacteria')\n",
    "                hitTaxa = set()\n",
    "                toIncrement = None\n",
    "                for hit in hits:\n",
    "                    prot = ref.getProt(hit)\n",
    "                    for t in prot.taxa:\n",
    "                        hitTaxa.add(t)\n",
    "                    if hit in strictBacteriaHits.keys() and toIncrement == None:\n",
    "                        toIncrement = hit\n",
    "                if toIncrement == None:\n",
    "                    toIncrement = hits[0]\n",
    "                    strictBacteriaHits[toIncrement] = ProteinHit(ref.getProt(toIncrement))\n",
    "                strictBacteriaHits[toIncrement].incrementCount(bv)\n",
    "                for t in hitTaxa:\n",
    "                    strictBacteriaHits[toIncrement].addTaxa(t)"
   ]
  },
  {
   "cell_type": "code",
   "execution_count": 21,
   "metadata": {},
   "outputs": [],
   "source": [
    "strictSummaryPath = analysisPath.joinpath('protein_summary_bacteria_strict.csv')"
   ]
  },
  {
   "cell_type": "code",
   "execution_count": 18,
   "metadata": {},
   "outputs": [],
   "source": [
    "with strictSummaryPath.open(mode='w', newline='') as outfile:\n",
    "    rows = [['ID', 'Protein', 'Taxa', 'BV- Count', 'BV+ Count', 'Total Count']]\n",
    "    for p in strictBacteriaHits.values():\n",
    "        rows.append([p.id, p.protein.name, p.getTaxaString(), str(p.getCount('-')), str(p.getCount('+')), str(p.getCount())])\n",
    "    writer = csv.writer(outfile)\n",
    "    for row in rows:\n",
    "        writer.writerow(row)"
   ]
  },
  {
   "cell_type": "markdown",
   "metadata": {},
   "source": [
    "I'm going to analyze the bacterial proteins by the annotations given to them by eggnog-mapper. It's a little tricky to decide which annotation to use for analysis, as none of the EC number, GO number, KEGG number, etc, classifications were applied evenly to all the proteins I would be interested in. Therefore, I'm going to use the \"Preferred_name\" column to group proteins. However, that still isn't perfect, as some proteins that I'm interested in such as lactate dehydrogenase can have different annotations (i.e. 'ldh' and 'ldhA'). So, I'm going to hand-build a dictionary associating those annotations I'm interested in with a function, (i.e. 'ldh' and 'ldhA' both ='Lactic Acid Dehydrogenase'), and analyze those hand-picked functions."
   ]
  },
  {
   "cell_type": "code",
   "execution_count": 9,
   "metadata": {},
   "outputs": [],
   "source": [
    "name2func = {} #key=\"Preferred_name\", value=function"
   ]
  },
  {
   "cell_type": "code",
   "execution_count": 10,
   "metadata": {},
   "outputs": [],
   "source": [
    "#key=\"Preferred_name\", value=function\n",
    "name2func = {\n",
    "    # Fermentation\n",
    "    'ldh':'Lactic acid dehydrogenase',\n",
    "    'ldhA':'Lactic acid dehydrogenase',\n",
    "    'ackA':'Acetate kinase',\n",
    "    'pflB':'Pyruvate formate lyase',\n",
    "    'adhA':'Alcohol dehydrogenase',\n",
    "    'adhE':'Alcohol dehydrogenase',\n",
    "    'adhP':'Alcohol dehydrogenase',\n",
    "    'fucO':'Alcohol dehydrogenase',\n",
    "    'adh1':'Alcohol dehydrogenase',\n",
    "    'mdh':'Malate dehydrogenase',\n",
    "    'sdhA':'Succinate dehydrogenase',\n",
    "    'frdB':'Succinate dehydrogenase',\n",
    "    'sucD':'Succinate-semialdehyde dehydrogenase',\n",
    "    # Glycolysis\n",
    "    'eno':'Enolase',\n",
    "    'fba':'Fructose-bisphosphate aldolase',\n",
    "    'pgk':'Phosphoglycerate kinase',\n",
    "    'gap':'Glyceraldehyde-3-phosphate dehydrogenase',\n",
    "    'pyk':'Pyruvate kinase',\n",
    "    'pfkA':'6-phosphofructokinase',\n",
    "    'tkt':'Transketolase',\n",
    "    'gpmA':'Phosphoglycerate mutase',\n",
    "    'gpmB':'Phosphoglycerate mutase',\n",
    "    # Gluconeogenesis\n",
    "    'pckA':'Phosphoenolpyruvate carboxykinase',\n",
    "    'ppsA':'Pyruvate, phosphate dikinase',\n",
    "    'tpiA':'Triosephosphate isomerase',\n",
    "    # Carbohydrate metabolism\n",
    "    'pulA':'Extracellular alpha-amylase',\n",
    "    'amyE':'Extracellular alpha-amylase',\n",
    "    'amyB7':'Extracellular alpha-amylase',\n",
    "    'tvaII':'Intracellular alpha-amylase',\n",
    "    'malQ':'4-alpha-glucanotransferase',\n",
    "    'glgP':'Glycogen phosphorylase',\n",
    "    'glgB':'Glycogen branching enzyme',\n",
    "    # Growth processes\n",
    "    'ctc':'Ribosome',\n",
    "    'efp':'Ribosome',\n",
    "    'frr':'Ribosome',\n",
    "    'hpf':'Ribosome',\n",
    "    'fusA':'Ribosome',\n",
    "    'fusA2':'Ribosome',\n",
    "    'infA':'Ribosome',\n",
    "    'infB':'Ribosome',\n",
    "    'infC':'Ribosome',\n",
    "    'tuf':'Ribosome',\n",
    "    'tsf':'Ribosome',\n",
    "    'rpsA':'Ribosome',\n",
    "    'rpsB':'Ribosome',\n",
    "    'rpsC':'Ribosome',\n",
    "    'rpsD':'Ribosome',\n",
    "    'rpsE':'Ribosome',\n",
    "    'rpsF':'Ribosome',\n",
    "    'rpsG':'Ribosome',\n",
    "    'rpsH':'Ribosome',\n",
    "    'rpsI':'Ribosome',\n",
    "    'rpsJ':'Ribosome',\n",
    "    'rpsK':'Ribosome',\n",
    "    'rpsL':'Ribosome',\n",
    "    'rpsM':'Ribosome',\n",
    "    'rpsN':'Ribosome',\n",
    "    'rpsO':'Ribosome',\n",
    "    'rpsP':'Ribosome',\n",
    "    'rpsQ':'Ribosome',\n",
    "    'rpsR':'Ribosome',\n",
    "    'rpsS':'Ribosome',\n",
    "    'rpsT':'Ribosome',\n",
    "    'rplA':'Ribosome',\n",
    "    'rplB':'Ribosome',\n",
    "    'rplD':'Ribosome',\n",
    "    'rplE':'Ribosome',\n",
    "    'rplF':'Ribosome',\n",
    "    'rplI':'Ribosome',\n",
    "    'rplJ':'Ribosome',\n",
    "    'rplK':'Ribosome',\n",
    "    'rplL':'Ribosome',\n",
    "    'rplM':'Ribosome',\n",
    "    'rplN':'Ribosome',\n",
    "    'rplO':'Ribosome',\n",
    "    'rplP':'Ribosome',\n",
    "    'rplQ':'Ribosome',\n",
    "    'rplR':'Ribosome',\n",
    "    'rplS':'Ribosome',\n",
    "    'rplT':'Ribosome',\n",
    "    'rplU':'Ribosome',\n",
    "    'rplV':'Ribosome',\n",
    "    'rplW':'Ribosome',\n",
    "    'rplX':'Ribosome',\n",
    "    'rpmA':'Ribosome',\n",
    "    'rpmB':'Ribosome',\n",
    "    'rpmC':'Ribosome',\n",
    "    'rpmD':'Ribosome',\n",
    "    'ychF':'Ribosome',\n",
    "    'ftsZ':'Cell division',\n",
    "    'sepF':'Cell division',\n",
    "    'spoVG':'Cell division',\n",
    "    'atpA':'ATP synthase',\n",
    "    'atpD':'ATP synthase',\n",
    "    'atpF':'ATP synthase',\n",
    "    'rpoA':'RNA Polymerase',\n",
    "    'rpoB':'RNA Polymerase',\n",
    "    'rpoC':'RNA Polymerase',\n",
    "    'glnA':'Glutamine synthase',\n",
    "    'traM':'Conjugation',\n",
    "    'tcsA':'ABC transporter',\n",
    "    'ugpC':'ABC transporter',\n",
    "    'dppA':'ABC transporter',\n",
    "    'msmK':'ABC transporter',\n",
    "    'msmX':'ABC transporter',\n",
    "    'oppD':'ABC transporter',\n",
    "    'pstS':'ABC transporter',\n",
    "    'oppA':'ABC transporter',\n",
    "    'potA':'ABC transporter',\n",
    "    'bcrA':'ABC transporter',\n",
    "    # Phage\n",
    "    'casC':'CRISPR',\n",
    "    # Peptide catabolism\n",
    "    'pepC2':'Intracellular Peptidase',\n",
    "    'pepD':'Intracellular Peptidase',\n",
    "    'pepD_2':'Intracellular Peptidase',\n",
    "    'pepN':'Intracellular Peptidase',\n",
    "    'htrA':'Extracellular Peptidase',\n",
    "    'clpP':'Extracellular Peptidase',\n",
    "    'pepO':'Extracellular Peptidase',\n",
    "    'gluA':'Glutamate transporter',\n",
    "    'gluD':'Glutamate dehydrogenase',\n",
    "    'gdh':'Glutamate dehydrogenase',\n",
    "    'ftcD':'Glutamate formimidoyltransferase',\n",
    "    'argJ':'Glutamate <-> Ornithine',\n",
    "    'grdB':'Glycine reductase',\n",
    "    'hutH':'Histidine ammonia-lyase',\n",
    "    'arcA':'Arginine deiminase',\n",
    "    'argE':'Acetylornithine deacetylase',\n",
    "    'argF':'Ornithine transcarbamoylase',\n",
    "    'tyrA':'Prephenate dehydrogenase',\n",
    "    'aspA':'Aspartate ammonia-lyase',\n",
    "    'asnA':'Aspartate ammonia-lyase',\n",
    "    'amt':'Ammonium transporter',\n",
    "    # Fatty acid catabolixm\n",
    "    'bcd2':'Fatty acid catabolism',\n",
    "    'citF':'Citrate lyase',\n",
    "    # Motility\n",
    "    'flaA':'Flagellum',\n",
    "    'fliC':'Flagellum',\n",
    "    'hag':'Flagellum',\n",
    "    # Metals\n",
    "    'ftnA':'Iron storage',\n",
    "    'feoB':'Iron importer',\n",
    "    'cbiK':'Cobalt chelatase',\n",
    "    'yfeA':'Zinc uptake',\n",
    "    'copB':'Copper-exporting ATPase',\n",
    "    # Oxidant/Antioxidant\n",
    "    'ahpC':'Peroxiredoxin',\n",
    "    'rbo':'Superoxide reductase'\n",
    "}"
   ]
  },
  {
   "cell_type": "code",
   "execution_count": 12,
   "metadata": {},
   "outputs": [],
   "source": [
    "class FuncInfo:\n",
    "    def __init__(self, functionName):\n",
    "        self.function = functionName\n",
    "        self.taxa = set()\n",
    "        self.counts = [0 for x in range(len(SAMPLE_NAMES))]\n",
    "    \n",
    "    def addTaxa(self, newTaxa):\n",
    "        self.taxa.add(newTaxa)\n",
    "    \n",
    "    def getTaxaString(self):\n",
    "        taxaString = ''\n",
    "        for t in self.taxa:\n",
    "            taxaString += f'{t};'\n",
    "        return taxaString\n",
    "    \n",
    "    def getAbundances(self, totalCounts, transformed):\n",
    "        toReturn = []\n",
    "        for i in range(len(totalCounts)):\n",
    "            abundance = math.log2(1 + (self.counts[i] / totalCounts[i])) if transformed else self.counts[i] / totalCounts[i]\n",
    "            toReturn.append(abundance)\n",
    "        return toReturn"
   ]
  },
  {
   "cell_type": "code",
   "execution_count": 13,
   "metadata": {},
   "outputs": [],
   "source": [
    "funcPath = Path.cwd().joinpath('analysis_files/functional_analysis/')\n",
    "annotationFile = funcPath.joinpath('eggnog_annotations_bacteria.tsv')"
   ]
  },
  {
   "cell_type": "code",
   "execution_count": 17,
   "metadata": {},
   "outputs": [],
   "source": [
    "prot2func = {} #key=protID, value=function\n",
    "annotData = pd.read_csv(annotationFile, delimiter='\\t')\n",
    "for index, row in annotData.iterrows():\n",
    "    protID = row['query']\n",
    "    annot = row['Preferred_name']\n",
    "    if annot in name2func.keys():\n",
    "        prot2func[protID] = name2func[annot]"
   ]
  },
  {
   "cell_type": "code",
   "execution_count": 13,
   "metadata": {},
   "outputs": [],
   "source": [
    "funcHolder = {} #key=function, value=FuncInfo object\n",
    "for func in name2func.values():\n",
    "    funcHolder[func] = FuncInfo(func)"
   ]
  },
  {
   "cell_type": "code",
   "execution_count": 14,
   "metadata": {},
   "outputs": [],
   "source": [
    "totals = [0 for x in range(len(SAMPLE_NAMES))]\n",
    "for i in range(len(results)):\n",
    "    res = results[i]\n",
    "    ref = refs[i]\n",
    "    with res.open(mode='r') as infile:\n",
    "        reader = csv.reader(infile, delimiter='\\t')\n",
    "        for row in reader:\n",
    "            protType = determineIDType(row)\n",
    "            if protType == 'first':\n",
    "                continue\n",
    "            if not isSignificant(row):\n",
    "                break\n",
    "            if row[PEPTIDE] in bPeps and protType == 'bacteria':\n",
    "                totals[i] += 1\n",
    "                hits = getProteinHitList(row, 'bacteria')\n",
    "                hitFuncs = set()\n",
    "                hitTaxa = set()\n",
    "                for prot in hits:\n",
    "                    if prot in prot2func.keys():\n",
    "                        hitFuncs.add(prot2func[prot])\n",
    "                        for t in ref.getProt(prot).taxa:\n",
    "                            hitTaxa.add(t)\n",
    "                for func in hitFuncs:\n",
    "                    funcHolder[func].counts[i] += 1\n",
    "                    for t in hitTaxa:\n",
    "                        funcHolder[func].addTaxa(t)"
   ]
  },
  {
   "cell_type": "code",
   "execution_count": 15,
   "metadata": {},
   "outputs": [],
   "source": [
    "# Returns two separate lists, the first for BV- itesm, the second for BV+\n",
    "def separateByBV(itemList):\n",
    "    bvNeg = []\n",
    "    bvPos = []\n",
    "    for i in range(len(BV_STATUS)):\n",
    "        if BV_STATUS[i] == '-':\n",
    "            bvNeg.append(itemList[i])\n",
    "        else:\n",
    "            bvPos.append(itemList[i])\n",
    "    return (bvNeg, bvPos)\n",
    "\n",
    "# Returns the mean of the array\n",
    "def mean(numList):\n",
    "    return sum(numList) / len(numList)"
   ]
  },
  {
   "cell_type": "code",
   "execution_count": 17,
   "metadata": {},
   "outputs": [],
   "source": [
    "toWrite = [['Function', 'Taxa', 'p-value', 'BV- Avg Abundance', 'BV- Avg Transformed Abundance', 'BV- StDev', 'BV+ Avg Abundance', 'BV+ Avg Transformed Abundance', 'BV+ StDev']]\n",
    "for f in funcHolder.values():\n",
    "    bvNegAbund, bvPosAbund = separateByBV(f.getAbundances(totals, False))\n",
    "    bvNegTransformed, bvPosTransformed = separateByBV(f.getAbundances(totals, True))\n",
    "    res = stats.mannwhitneyu(bvNegTransformed, bvPosTransformed)\n",
    "    pVal = res.pvalue\n",
    "    toWrite.append([f.function, f.getTaxaString(), str(pVal), str(mean(bvNegAbund)), str(mean(bvNegTransformed)), str(stats.tstd(bvNegTransformed)), str(mean(bvPosAbund)), str(mean(bvPosTransformed)), str(stats.tstd(bvPosTransformed))])"
   ]
  },
  {
   "cell_type": "code",
   "execution_count": 18,
   "metadata": {},
   "outputs": [],
   "source": [
    "funcOutPath = analysisPath.joinpath('function_differences.csv')"
   ]
  },
  {
   "cell_type": "code",
   "execution_count": 19,
   "metadata": {},
   "outputs": [],
   "source": [
    "with funcOutPath.open(mode='w', newline='') as outfile:\n",
    "    writer = csv.writer(outfile)\n",
    "    for row in toWrite:\n",
    "        writer.writerow(row)"
   ]
  },
  {
   "cell_type": "markdown",
   "metadata": {},
   "source": [
    "What taxa make extracellular peptidases?"
   ]
  },
  {
   "cell_type": "code",
   "execution_count": 19,
   "metadata": {},
   "outputs": [],
   "source": [
    "peptidaseIDs = []\n",
    "for protID, function in prot2func.items():\n",
    "    if function == 'Extracellular Peptidase':\n",
    "        peptidaseIDs.append(protID)"
   ]
  },
  {
   "cell_type": "code",
   "execution_count": 22,
   "metadata": {},
   "outputs": [],
   "source": [
    "strictHitsDF = pd.read_csv(strictSummaryPath)"
   ]
  },
  {
   "cell_type": "code",
   "execution_count": 23,
   "metadata": {},
   "outputs": [],
   "source": [
    "bacterialProteaseCounts = {} # key=taxa string, value=[bv- count, bv+ count]\n",
    "for index, row in strictHitsDF.iterrows():\n",
    "    if row['ID'] in peptidaseIDs:\n",
    "        if not row['Taxa'] in bacterialProteaseCounts:\n",
    "            bacterialProteaseCounts[row['Taxa']] = [0, 0]\n",
    "        bacterialProteaseCounts[row['Taxa']][0] += row['BV- Count']\n",
    "        bacterialProteaseCounts[row['Taxa']][1] += row['BV+ Count']"
   ]
  },
  {
   "cell_type": "code",
   "execution_count": 26,
   "metadata": {},
   "outputs": [],
   "source": [
    "proteaseSummaryPath = analysisPath.joinpath('bacterial_strict_proteases.csv')\n",
    "with proteaseSummaryPath.open(mode='w', newline='') as outfile:\n",
    "    writer = csv.writer(outfile)\n",
    "    writer.writerow(['Taxa', 'BV- Count', 'BV+ Count'])\n",
    "    for taxaString, counts in bacterialProteaseCounts.items():\n",
    "        writer.writerow([taxaString, str(counts[0]), str(counts[1])])"
   ]
  }
 ],
 "metadata": {
  "kernelspec": {
   "display_name": "Python 3 (ipykernel)",
   "language": "python",
   "name": "python3"
  },
  "language_info": {
   "codemirror_mode": {
    "name": "ipython",
    "version": 3
   },
   "file_extension": ".py",
   "mimetype": "text/x-python",
   "name": "python",
   "nbconvert_exporter": "python",
   "pygments_lexer": "ipython3",
   "version": "3.10.7"
  }
 },
 "nbformat": 4,
 "nbformat_minor": 4
}
