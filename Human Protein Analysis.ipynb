{
 "cells": [
  {
   "cell_type": "markdown",
   "metadata": {},
   "source": [
    "**1/14/21**\n",
    "\n",
    "The purpose of this notebook is to analyze human proteins I identify and see which are significantly differentially abundant based on BV status."
   ]
  },
  {
   "cell_type": "code",
   "execution_count": 1,
   "metadata": {},
   "outputs": [],
   "source": [
    "from elliot_utils import *\n",
    "from scipy import stats"
   ]
  },
  {
   "cell_type": "code",
   "execution_count": 2,
   "metadata": {},
   "outputs": [],
   "source": [
    "analysisPath = Path.cwd().joinpath('analysis_files/human_analysis/')\n",
    "figPath = Path.cwd().joinpath('figures/human_analysis/')"
   ]
  },
  {
   "cell_type": "code",
   "execution_count": 3,
   "metadata": {},
   "outputs": [],
   "source": [
    "results = getOrderedFiles(HYBRID_RESULTS, '.tsv')\n",
    "dbs = getOrderedFiles(HYBRID_DB, '.fasta')\n",
    "refs = [ProtRef(x) for x in dbs]\n",
    "hPeps = getFilteredPeptides(results, 'human')"
   ]
  },
  {
   "cell_type": "code",
   "execution_count": 4,
   "metadata": {},
   "outputs": [],
   "source": [
    "# Get a dictionary of all the human proteins identified by Hybrid_Sample-Matched searches\n",
    "humanProteins = {} #key=protID, value=protein object"
   ]
  },
  {
   "cell_type": "code",
   "execution_count": 5,
   "metadata": {},
   "outputs": [],
   "source": [
    "for i in range(len(results)):\n",
    "    ref = refs[i]\n",
    "    res = results[i]\n",
    "    with res.open(mode='r') as infile:\n",
    "        reader = csv.reader(infile, delimiter='\\t')\n",
    "        for row in reader:\n",
    "            protType = determineIDType(row)\n",
    "            if protType == 'first':\n",
    "                continue\n",
    "            if not isSignificant(row):\n",
    "                break\n",
    "            if row[PEPTIDE] in hPeps and protType == 'human':\n",
    "                hits = getProteinHitList(row, 'human')\n",
    "                for hit in hits:\n",
    "                    if not hit in humanProteins.keys():\n",
    "                        humanProteins[hit] = ref.getProt(hit)"
   ]
  },
  {
   "cell_type": "code",
   "execution_count": 6,
   "metadata": {},
   "outputs": [],
   "source": [
    "# Get the transformed relative abundance for each human protein across all the samples\n",
    "sampleTotals = [0 for x in range(len(SAMPLE_NAMES))] # Total number of significant human PSMs for each sample.\n",
    "humanCounts = {} #key=protID, value=spectral count of the protein in each sample\n",
    "for p in humanProteins.keys():\n",
    "    humanCounts[p] = [0 for x in range(len(SAMPLE_NAMES))]"
   ]
  },
  {
   "cell_type": "code",
   "execution_count": 7,
   "metadata": {},
   "outputs": [],
   "source": [
    "for i in range(len(results)):\n",
    "    with results[i].open(mode='r') as infile:\n",
    "        reader = csv.reader(infile, delimiter='\\t')\n",
    "        for row in reader:\n",
    "            protType = determineIDType(row)\n",
    "            if protType == 'first':\n",
    "                continue\n",
    "            if not isSignificant(row):\n",
    "                break\n",
    "            if row[PEPTIDE] in hPeps and protType == 'human':\n",
    "                sampleTotals[i] += 1\n",
    "                hits = getProteinHitList(row, 'human')\n",
    "                for hit in hits:\n",
    "                    humanCounts[hit][i] += 1"
   ]
  },
  {
   "cell_type": "code",
   "execution_count": 8,
   "metadata": {},
   "outputs": [],
   "source": [
    "# Returns true if all the numbers in the list are 0, false otherwise\n",
    "def allZeros(numList):\n",
    "    for num in numList:\n",
    "        if not num == 0:\n",
    "            return False\n",
    "    return True\n",
    "\n",
    "# Returns the mean of the array\n",
    "def mean(numList):\n",
    "    return sum(numList) / len(numList)"
   ]
  },
  {
   "cell_type": "code",
   "execution_count": 11,
   "metadata": {},
   "outputs": [],
   "source": [
    "# Separate counts into BV+ and BV-, then log-transform them\n",
    "bvPlusCounts = {} #key=protID, value=list of counts in BV+ samples\n",
    "bvMinusCounts = {} #key=protID, value=list of counts in BV- samples\n",
    "bvPlusTransformed = {} #key=protID, value=list of transformed abundances in BV+ samples\n",
    "bvMinusTransformed = {} #key=protID, value=list of transformed abundances in BV- samples\n",
    "bvPlusStdv = {} #key=protID, value=standard deviation of transformed abundances in BV+ samples\n",
    "bvMinusStdv = {} #key=protID, value=standard deviation of transformed abundances in BV+ samples"
   ]
  },
  {
   "cell_type": "code",
   "execution_count": 12,
   "metadata": {},
   "outputs": [],
   "source": [
    "for p in humanProteins.keys():\n",
    "    if allZeros(humanCounts[p]): #Ignore proteins that were never hit\n",
    "        continue\n",
    "    bvPlusCounts[p] = []\n",
    "    bvMinusCounts[p] = []\n",
    "    bvPlusTransformed[p] = []\n",
    "    bvMinusTransformed[p] = []\n",
    "    bvPlusStdv[p] = None\n",
    "    bvMinusStdv[p] = None"
   ]
  },
  {
   "cell_type": "code",
   "execution_count": 14,
   "metadata": {},
   "outputs": [],
   "source": [
    "for i in range(len(SAMPLE_NAMES)):\n",
    "    for p in bvPlusCounts.keys():\n",
    "        if BV_STATUS[i] == '+':\n",
    "            bvPlusCounts[p].append(humanCounts[p][i])\n",
    "            bvPlusTransformed[p].append(math.log2(1 + (humanCounts[p][i] / sampleTotals[i])))\n",
    "        else:\n",
    "            bvMinusCounts[p].append(humanCounts[p][i])\n",
    "            bvMinusTransformed[p].append(math.log2(1 + (humanCounts[p][i] / sampleTotals[i])))\n",
    "for p in bvPlusCounts.keys():\n",
    "    bvPlusStdv[p] = stats.tstd(bvPlusTransformed[p])\n",
    "    bvMinusStdv[p] = stats.tstd(bvMinusTransformed[p])"
   ]
  },
  {
   "cell_type": "code",
   "execution_count": 15,
   "metadata": {},
   "outputs": [],
   "source": [
    "# Test whether the proteins are significantly differentially abundant using the mann-whitney U test\n",
    "pvals = {} #key=protID, value=p-value of mann-whitney U test"
   ]
  },
  {
   "cell_type": "code",
   "execution_count": 16,
   "metadata": {},
   "outputs": [],
   "source": [
    "for p in bvPlusCounts.keys():\n",
    "    negData = bvMinusTransformed[p]\n",
    "    posData = bvPlusTransformed[p]\n",
    "    res = stats.mannwhitneyu(bvMinusTransformed[p], bvPlusTransformed[p])\n",
    "    pVal = res.pvalue\n",
    "    pvals[p] = pVal"
   ]
  },
  {
   "cell_type": "code",
   "execution_count": 17,
   "metadata": {},
   "outputs": [],
   "source": [
    "with analysisPath.joinpath('differential_proteins_human.csv').open(mode='w', newline='') as outfile:\n",
    "    writer = csv.writer(outfile)\n",
    "    writer.writerow(['Protein', 'p-value', 'BV- Avg Count', 'BV- Avg Transformed Abundance', 'BV- StDev', 'BV+ Avg Count', 'BV+ Avg Transformed Abundance', 'BV+ StDev', 'delta'])\n",
    "    for p in bvPlusCounts.keys():\n",
    "        writer.writerow([humanProteins[p].name, str(pvals[p]), str(mean(bvMinusCounts[p])), str(mean(bvMinusTransformed[p])), str(bvMinusStdv[p]), str(mean(bvPlusCounts[p])), str(mean(bvPlusTransformed[p])), str(bvPlusStdv[p]), str(mean(bvPlusCounts[p]) - mean(bvMinusCounts[p]))])"
   ]
  },
  {
   "cell_type": "code",
   "execution_count": 39,
   "metadata": {},
   "outputs": [],
   "source": [
    "# Perform the same analysis with GO annotations associated with the proteins\n",
    "annotations = {} #key=protein ID, value=list of GO numbers associated with the protein\n",
    "for p in humanProteins.keys():\n",
    "    annotations[p] = []"
   ]
  },
  {
   "cell_type": "code",
   "execution_count": 56,
   "metadata": {},
   "outputs": [],
   "source": [
    "annotationFile = pd.read_csv(Path.cwd().joinpath('analysis_files/functional_analysis/eggnog_annotations_human.tsv'), sep='\\t')\n",
    "annotationCounts = {'unannotated':[0 for x in range(len(SAMPLE_NAMES))]} #key=GO number, value=list of spectral counts associated with that GO number in each sample"
   ]
  },
  {
   "cell_type": "code",
   "execution_count": 57,
   "metadata": {},
   "outputs": [],
   "source": [
    "# Get protein -> annotations associations, and also pull out all the annotations associated with all human proteins into another dict\n",
    "for index, row in annotationFile.iterrows():\n",
    "    prot = row['query']\n",
    "    gostring = row['GOs']\n",
    "    if gostring == '-':\n",
    "        annotations[prot] = ['unannotated']\n",
    "    else:\n",
    "        goList = gostring.split(',')\n",
    "        annotations[prot] = goList\n",
    "        for go in goList:\n",
    "            annotationCounts[go] = [0 for x in range(len(SAMPLE_NAMES))]\n",
    "for p in annotations.keys():\n",
    "    if len(annotations[p]) == 0:\n",
    "        annotations[p] = ['unannotated']"
   ]
  },
  {
   "cell_type": "code",
   "execution_count": 58,
   "metadata": {},
   "outputs": [],
   "source": [
    "# Get spectral counts for annotations\n",
    "for i in range(len(results)):\n",
    "    with results[i].open(mode='r') as infile:\n",
    "        reader = csv.reader(infile, delimiter='\\t')\n",
    "        for row in reader:\n",
    "            protType = determineIDType(row)\n",
    "            if protType == 'first':\n",
    "                continue\n",
    "            if not isSignificant(row):\n",
    "                break\n",
    "            if row[PEPTIDE] in hPeps and protType == 'human':\n",
    "                hits = getProteinHitList(row, 'human')\n",
    "                for hit in hits:\n",
    "                    for go in annotations[hit]:\n",
    "                        annotationCounts[go][i] += 1"
   ]
  },
  {
   "cell_type": "code",
   "execution_count": 59,
   "metadata": {},
   "outputs": [],
   "source": [
    "# Separate annotation counts into BV+ and BV-, then log-transform them\n",
    "bvPlusAnotCounts = {} #key=protID, value=list of counts in BV+ samples\n",
    "bvMinusAnotCounts = {} #key=protID, value=list of counts in BV- samples\n",
    "bvPlusAnotTransformed = {} #key=protID, value=list of transformed abundances in BV+ samples\n",
    "bvMinusAnotTransformed = {} #key=protID, value=list of transformed abundances in BV- samples"
   ]
  },
  {
   "cell_type": "code",
   "execution_count": 62,
   "metadata": {},
   "outputs": [],
   "source": [
    "for a in annotationCounts.keys():\n",
    "    if allZeros(annotationCounts[a]): #Ignore annotations that were never hit\n",
    "        continue\n",
    "    bvPlusAnotCounts[a] = []\n",
    "    bvMinusAnotCounts[a] = []\n",
    "    bvPlusAnotTransformed[a] = []\n",
    "    bvMinusAnotTransformed[a] = []"
   ]
  },
  {
   "cell_type": "code",
   "execution_count": 63,
   "metadata": {},
   "outputs": [],
   "source": [
    "for i in range(len(SAMPLE_NAMES)):\n",
    "    for a in bvPlusAnotCounts.keys():\n",
    "        if BV_STATUS[i] == '+':\n",
    "            bvPlusAnotCounts[a].append(annotationCounts[a][i])\n",
    "            bvPlusAnotTransformed[a].append(math.log2(1 + (annotationCounts[a][i] / sampleTotals[i])))\n",
    "        else:\n",
    "            bvMinusAnotCounts[a].append(annotationCounts[a][i])\n",
    "            bvMinusAnotTransformed[a].append(math.log2(1 + (annotationCounts[a][i] / sampleTotals[i])))"
   ]
  },
  {
   "cell_type": "code",
   "execution_count": 71,
   "metadata": {},
   "outputs": [],
   "source": [
    "# Test whether the proteins are significantly differentially abundant using the mann-whitney U test\n",
    "annotpvals = {} #key=protID, value=p-value of mann-whitney U test"
   ]
  },
  {
   "cell_type": "code",
   "execution_count": 72,
   "metadata": {},
   "outputs": [],
   "source": [
    "for a in bvPlusAnotCounts.keys():\n",
    "    negData = bvMinusAnotTransformed[a]\n",
    "    posData = bvPlusAnotTransformed[a]\n",
    "    res = stats.mannwhitneyu(bvMinusAnotTransformed[a], bvPlusAnotTransformed[a])\n",
    "    pVal = res.pvalue\n",
    "    annotpvals[a] = pVal"
   ]
  },
  {
   "cell_type": "code",
   "execution_count": 64,
   "metadata": {},
   "outputs": [],
   "source": [
    "goref = GoRef(Path.cwd().joinpath('analysis_files/go.obo'))"
   ]
  },
  {
   "cell_type": "code",
   "execution_count": 73,
   "metadata": {},
   "outputs": [],
   "source": [
    "with analysisPath.joinpath('differential_annotations_human.csv').open(mode='w', newline='') as outfile:\n",
    "    writer = csv.writer(outfile)\n",
    "    writer.writerow(['GO', 'Annotation', 'p-value', 'BV- Avg Count', 'BV- Avg Transformed Abundance', 'BV+ Avg Count', 'BV+ Avg Transformed Abundance'])\n",
    "    for a in bvPlusAnotCounts.keys():\n",
    "        function = a if a == 'unannotated' else goref.getFunc(a)\n",
    "        writer.writerow([a, function, str(annotpvals[a]), str(mean(bvMinusAnotCounts[a])), str(mean(bvMinusAnotTransformed[a])), str(mean(bvPlusAnotCounts[a])), str(mean(bvPlusAnotTransformed[a]))])"
   ]
  },
  {
   "cell_type": "markdown",
   "metadata": {},
   "source": [
    "How many human PSMs do I get in BV- vs. BV+ samples? How many different human proteins, on average, do I see in BV- vs. BV+ samples?"
   ]
  },
  {
   "cell_type": "code",
   "execution_count": 8,
   "metadata": {},
   "outputs": [],
   "source": [
    "psmCounts = []\n",
    "protCounts = []"
   ]
  },
  {
   "cell_type": "code",
   "execution_count": 9,
   "metadata": {},
   "outputs": [],
   "source": [
    "# Count PSMs and proteins by BV status\n",
    "for i in range(len(results)):\n",
    "    with results[i].open(mode='r') as infile:\n",
    "        reader = csv.reader(infile, delimiter='\\t')\n",
    "        psmCount = 0\n",
    "        allHitProts = set()\n",
    "        for row in reader:\n",
    "            protType = determineIDType(row)\n",
    "            if protType == 'first':\n",
    "                continue\n",
    "            if not isSignificant(row):\n",
    "                break\n",
    "            if row[PEPTIDE] in hPeps and protType == 'human':\n",
    "                psmCount += 1\n",
    "                hits = getProteinHitList(row, 'human')\n",
    "                for hit in hits:\n",
    "                    allHitProts.add(hit)\n",
    "        psmCounts.append(psmCount)\n",
    "        protCounts.append(len(allHitProts))"
   ]
  },
  {
   "cell_type": "code",
   "execution_count": 14,
   "metadata": {},
   "outputs": [
    {
     "data": {
      "image/png": "[encoded data removed]",
      "text/plain": [
       "<Figure size 432x288 with 1 Axes>"
      ]
     },
     "metadata": {
      "needs_background": "light"
     },
     "output_type": "display_data"
    }
   ],
   "source": [
    "psmDF = pd.DataFrame({'Human PSMs':psmCounts, 'BV Status':BV_STATUS})\n",
    "psmsPlot = sns.boxplot(data=psmDF, x='BV Status', y='Human PSMs')\n",
    "saveFig(psmsPlot, figPath.joinpath('psms_by_bv.png'))"
   ]
  },
  {
   "cell_type": "code",
   "execution_count": 15,
   "metadata": {},
   "outputs": [
    {
     "data": {
      "image/png": "[encoded data removed]",
      "text/plain": [
       "<Figure size 432x288 with 1 Axes>"
      ]
     },
     "metadata": {
      "needs_background": "light"
     },
     "output_type": "display_data"
    }
   ],
   "source": [
    "protDF = pd.DataFrame({'Unique Human Proteins':protCounts, 'BV Status':BV_STATUS})\n",
    "protPlot = sns.boxplot(data=protDF, x='BV Status', y='Unique Human Proteins')\n",
    "saveFig(protPlot, figPath.joinpath('prots_by_bv.png'))"
   ]
  }
 ],
 "metadata": {
  "kernelspec": {
   "display_name": "Python 3",
   "language": "python",
   "name": "python3"
  },
  "language_info": {
   "codemirror_mode": {
    "name": "ipython",
    "version": 3
   },
   "file_extension": ".py",
   "mimetype": "text/x-python",
   "name": "python",
   "nbconvert_exporter": "python",
   "pygments_lexer": "ipython3",
   "version": "3.6.4"
  }
 },
 "nbformat": 4,
 "nbformat_minor": 4
}
