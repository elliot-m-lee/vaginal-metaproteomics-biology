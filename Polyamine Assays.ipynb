{
 "cells": [
  {
   "cell_type": "markdown",
   "metadata": {},
   "source": [
    "**4/17/23**\n",
    "\n",
    "The purpose of this notebook page is to analyze and graph data from polyamine assays."
   ]
  },
  {
   "cell_type": "code",
   "execution_count": 1,
   "metadata": {},
   "outputs": [],
   "source": [
    "from elliot_utils import *\n",
    "from scipy import stats"
   ]
  },
  {
   "cell_type": "code",
   "execution_count": 2,
   "metadata": {},
   "outputs": [],
   "source": [
    "analysisPath = Path.cwd().joinpath('analysis_files/polyamine_assays/')\n",
    "figPath = Path.cwd().joinpath('figures/polyamine_assays/')"
   ]
  },
  {
   "cell_type": "code",
   "execution_count": 3,
   "metadata": {},
   "outputs": [],
   "source": [
    "# Graph the combined results from the pilot assay on 4/4/23, the follow-up on 4/7/23, and the follow-up-follow-up on 4/11/23\n",
    "data41123 = pd.read_csv(analysisPath.joinpath('4-11-23.csv'))"
   ]
  },
  {
   "cell_type": "code",
   "execution_count": 4,
   "metadata": {},
   "outputs": [
    {
     "data": {
      "image/png": "[encoded data removed]",
      "text/plain": [
       "<Figure size 648x360 with 1 Axes>"
      ]
     },
     "metadata": {
      "needs_background": "light"
     },
     "output_type": "display_data"
    }
   ],
   "source": [
    "plot41123 = sns.catplot(data=data41123, x='Isolate', y='Polyamines (uM)', kind='bar', aspect=1.8)\n",
    "plot41123.set(xlabel='', ylim=(0, 10000))\n",
    "plot41123.savefig(figPath.joinpath('4-11-23.png'), bbox_inches='tight', dpi=300)"
   ]
  },
  {
   "cell_type": "code",
   "execution_count": 5,
   "metadata": {},
   "outputs": [],
   "source": [
    "# Perform statistical analysis on the results to confirm that the concentration of polyamines in the cocultures is higher than in the monocultures\n",
    "# First pull the data I need out of the dataframe\n",
    "statsData = {'DSM19965':[], 'DNF00843':[], 'DSM19965+DSM15829':[], 'DNF00843+DSM15829':[]}\n",
    "for index, row in data41123.iterrows():\n",
    "    polyamines = row['Polyamines (uM)']\n",
    "    isolate = row['Isolate']\n",
    "    if isolate == 'DSM19965':\n",
    "        statsData['DSM19965'].append(polyamines)\n",
    "    elif isolate == 'DNF00843':\n",
    "        statsData['DNF00843'].append(polyamines)\n",
    "    elif isolate == 'DSM19965+\\nDSM15829':\n",
    "        statsData['DSM19965+DSM15829'].append(polyamines)\n",
    "    elif isolate == 'DNF00843+\\nDSM15829':\n",
    "        statsData['DNF00843+DSM15829'].append(polyamines)"
   ]
  },
  {
   "cell_type": "code",
   "execution_count": 7,
   "metadata": {},
   "outputs": [
    {
     "data": {
      "text/plain": [
       "Ttest_indResult(statistic=-23.22080868119469, pvalue=0.00016956380041806192)"
      ]
     },
     "execution_count": 7,
     "metadata": {},
     "output_type": "execute_result"
    }
   ],
   "source": [
    "# Test for D. micraerophilus DSM19965\n",
    "stats.ttest_ind(statsData['DSM19965'], statsData['DSM19965+DSM15829'], equal_var=False)"
   ]
  },
  {
   "cell_type": "code",
   "execution_count": 8,
   "metadata": {},
   "outputs": [
    {
     "data": {
      "text/plain": [
       "Ttest_indResult(statistic=-5.817460306189713, pvalue=0.024352341444934693)"
      ]
     },
     "execution_count": 8,
     "metadata": {},
     "output_type": "execute_result"
    }
   ],
   "source": [
    "# Test for D. micraerophilus DNF00843\n",
    "stats.ttest_ind(statsData['DNF00843'], statsData['DNF00843+DSM15829'], equal_var=False)"
   ]
  }
 ],
 "metadata": {
  "kernelspec": {
   "display_name": "Python 3",
   "language": "python",
   "name": "python3"
  },
  "language_info": {
   "codemirror_mode": {
    "name": "ipython",
    "version": 3
   },
   "file_extension": ".py",
   "mimetype": "text/x-python",
   "name": "python",
   "nbconvert_exporter": "python",
   "pygments_lexer": "ipython3",
   "version": "3.6.4"
  }
 },
 "nbformat": 4,
 "nbformat_minor": 4
}
