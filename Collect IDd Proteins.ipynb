{
 "cells": [
  {
   "cell_type": "markdown",
   "metadata": {},
   "source": [
    "**1/14/21**\n",
    "\n",
    "The purpose of this notebook is to collect all the human and bacterial proteins identified in the samples in order to submit them to Eggnog mapper for GO annotation."
   ]
  },
  {
   "cell_type": "code",
   "execution_count": 1,
   "metadata": {},
   "outputs": [],
   "source": [
    "from elliot_utils import *"
   ]
  },
  {
   "cell_type": "code",
   "execution_count": 2,
   "metadata": {},
   "outputs": [],
   "source": [
    "analysisPath = Path.cwd().joinpath('analysis_files/functional_analysis/')"
   ]
  },
  {
   "cell_type": "code",
   "execution_count": 3,
   "metadata": {},
   "outputs": [],
   "source": [
    "results = getOrderedFiles(HYBRID_RESULTS, '.tsv')\n",
    "dbs = getOrderedFiles(HYBRID_DB, '.fasta')\n",
    "refs = [ProtRef(x) for x in dbs]"
   ]
  },
  {
   "cell_type": "code",
   "execution_count": 4,
   "metadata": {},
   "outputs": [],
   "source": [
    "hPeps = getFilteredPeptides(results, 'human')\n",
    "bPeps = getFilteredPeptides(results, 'bacteria')"
   ]
  },
  {
   "cell_type": "code",
   "execution_count": 5,
   "metadata": {},
   "outputs": [],
   "source": [
    "# Pull all of the valid, hit proteins out of the results and add them to the dictionary of proteins\n",
    "# Collapses proteins with the same ID together, adding new taxa to the same protein ID\n",
    "# Returns a dictionary in the format key=protID, value=protein object\n",
    "def collectProtsInDict(results, refs, allowedPeps, typeOfProt):\n",
    "    outDict = {} #key=protID, value=protein object\n",
    "    for i in range(len(results)):\n",
    "        res = results[i]\n",
    "        ref = refs[i]\n",
    "        with res.open(mode='r') as infile:\n",
    "            reader = csv.reader(infile, delimiter='\\t')\n",
    "            for row in reader:\n",
    "                protType = determineIDType(row)\n",
    "                if protType == 'first':\n",
    "                    continue\n",
    "                if not isSignificant(row):\n",
    "                    break\n",
    "                if row[PEPTIDE] in allowedPeps and protType == typeOfProt:\n",
    "                    hits = getProteinHitList(row, typeOfProt)\n",
    "                    for hit in hits:\n",
    "                        prot = ref.getProt(hit)\n",
    "                        if prot.id in outDict.keys():\n",
    "                            for t in prot.taxa:\n",
    "                                outDict[prot.id].addTaxa(t)\n",
    "                        else:\n",
    "                            outDict[prot.id] = prot\n",
    "    return outDict"
   ]
  },
  {
   "cell_type": "code",
   "execution_count": 6,
   "metadata": {},
   "outputs": [],
   "source": [
    "hProts = collectProtsInDict(results, refs, hPeps, 'human')\n",
    "bProts = collectProtsInDict(results, refs, bPeps, 'bacteria')"
   ]
  },
  {
   "cell_type": "code",
   "execution_count": 7,
   "metadata": {},
   "outputs": [],
   "source": [
    "# Write the proteins in the dictionary out to the specified fasta file\n",
    "def writeDictToFasta(protDict, output):\n",
    "    toWrite = []\n",
    "    for prot in protDict.values():\n",
    "        toWrite.append(prot.getEntry())\n",
    "    with open(output, 'w', newline='') as outfile:\n",
    "        outfile.write(''.join(toWrite))"
   ]
  },
  {
   "cell_type": "code",
   "execution_count": 8,
   "metadata": {},
   "outputs": [],
   "source": [
    "# Write the proteins to sepaparte files\n",
    "bacteriaFile = analysisPath.joinpath('hit_bacterial_proteins.fasta')\n",
    "humanFile = analysisPath.joinpath('hit_human_proteins.fasta')"
   ]
  },
  {
   "cell_type": "code",
   "execution_count": 9,
   "metadata": {},
   "outputs": [],
   "source": [
    "writeDictToFasta(hProts, humanFile)\n",
    "writeDictToFasta(bProts, bacteriaFile)"
   ]
  }
 ],
 "metadata": {
  "kernelspec": {
   "display_name": "Python 3",
   "language": "python",
   "name": "python3"
  },
  "language_info": {
   "codemirror_mode": {
    "name": "ipython",
    "version": 3
   },
   "file_extension": ".py",
   "mimetype": "text/x-python",
   "name": "python",
   "nbconvert_exporter": "python",
   "pygments_lexer": "ipython3",
   "version": "3.6.4"
  }
 },
 "nbformat": 4,
 "nbformat_minor": 4
}
